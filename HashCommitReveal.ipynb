{
 "cells": [
  {
   "cell_type": "markdown",
   "id": "93e55c26-67b2-468b-a6be-bf5aa4ddc28f",
   "metadata": {},
   "source": [
    "## A very bsic illustration of hash-based commit/reveal"
   ]
  },
  {
   "cell_type": "code",
   "execution_count": 1,
   "id": "3869ec05-0d32-4b7d-a1fa-ae145ce94a73",
   "metadata": {},
   "outputs": [
    {
     "name": "stdout",
     "output_type": "stream",
     "text": [
      "Requirement already satisfied: pycryptodome in c:\\apps\\python310\\lib\\site-packages (3.15.0)\n"
     ]
    }
   ],
   "source": [
    "!pip install pycryptodome"
   ]
  },
  {
   "cell_type": "code",
   "execution_count": 2,
   "id": "aa120b24-6bca-4b2e-8497-366b8e42fe77",
   "metadata": {},
   "outputs": [],
   "source": [
    "# Note: \"Crypto\" here is pycryptodome\n",
    "#from Crypto import Random\n",
    "from Crypto.Random import random\n",
    "#from Crypto.Util import number\n",
    "from Crypto.Hash import keccak  # keccak256 is the Ethereum utility hash func"
   ]
  },
  {
   "cell_type": "markdown",
   "id": "b45ee733-a396-4ca8-9cae-b7ae3ab0ed7c",
   "metadata": {},
   "source": [
    "Assume Bob and Alice would like to play a round of \"rock, paper, scissors\""
   ]
  },
  {
   "cell_type": "code",
   "execution_count": 3,
   "id": "9af0fc9c-8dcc-4529-a682-305baf2199c1",
   "metadata": {},
   "outputs": [],
   "source": [
    "\n",
    "rps_choices = ['rock', 'paper', 'scissors']\n",
    "\n",
    "def rps_winner( choiceA, choiceB):\n",
    "    if choiceA == choiceB:\n",
    "        return 'tie'\n",
    "    return choiceA if rps_choices.index(choiceA) == (rps_choices.index(choiceB)+1)%3 else choiceB   \n",
    "    "
   ]
  },
  {
   "cell_type": "code",
   "execution_count": 4,
   "id": "8eb36318-a4b7-4c78-95a3-167bcf58183b",
   "metadata": {},
   "outputs": [],
   "source": [
    "def salted_hash(choice, salt):\n",
    "    # both arg are stings\n",
    "    keccak_hash = keccak.new(digest_bits=256)\n",
    "    s = choice + salt\n",
    "    return keccak_hash.update(bytes(s,'ascii')).hexdigest()\n",
    "    "
   ]
  },
  {
   "cell_type": "code",
   "execution_count": 5,
   "id": "eb8fd12c-05d6-4671-9fff-093295cca5cc",
   "metadata": {},
   "outputs": [],
   "source": [
    "def get_salt(bits=256):\n",
    "    return str(random.getrandbits(bits))"
   ]
  },
  {
   "cell_type": "code",
   "execution_count": null,
   "id": "a2e03c9f-fbf0-481b-8b35-2d4f2d54151f",
   "metadata": {},
   "outputs": [],
   "source": []
  },
  {
   "cell_type": "markdown",
   "id": "136626ee-9f8e-472e-b75d-3eacea1fa86c",
   "metadata": {},
   "source": [
    "Since they are in separate locations, they can't just \"count it off\" on their hands.\n",
    "\n",
    "So instead they both create a hash commitment and send it to the other. Once both have received commitments, they open them.\n",
    "\n",
    "Any variables that begin with either 'A_' or 'B_' are visible to only Alice or Bob, respectively\n"
   ]
  },
  {
   "cell_type": "code",
   "execution_count": 6,
   "id": "362ed58c-cfa2-4e26-b54c-4d1a18e4a94f",
   "metadata": {},
   "outputs": [
    {
     "data": {
      "text/plain": [
       "('scissors',\n",
       " '90742478730971980640207869478028209775422630082448282910020845180595508880302',\n",
       " '20435ea5d46486c8320f00e14304ff58bf94b60c74e1b97fa20518050ddadecf')"
      ]
     },
     "execution_count": 6,
     "metadata": {},
     "output_type": "execute_result"
    }
   ],
   "source": [
    "# alice chooses\n",
    "A_aliceChoice = rps_choices[random.randint(0,2)]\n",
    "A_aliceSalt = get_salt()\n",
    "A_aliceCommit = salted_hash(A_aliceChoice, A_aliceSalt)\n",
    "\n",
    "A_aliceChoice, A_aliceSalt, A_aliceCommit"
   ]
  },
  {
   "cell_type": "code",
   "execution_count": 7,
   "id": "a8788e76-9715-4a8e-bb4c-98b6d7a0ed64",
   "metadata": {},
   "outputs": [],
   "source": [
    "# Alice sends Bob her commitment\n",
    "B_aliceCommit = A_aliceCommit"
   ]
  },
  {
   "cell_type": "code",
   "execution_count": 8,
   "id": "eab53a9f-36f9-49f9-b0fc-f8f5288ed14f",
   "metadata": {},
   "outputs": [
    {
     "data": {
      "text/plain": [
       "'rock'"
      ]
     },
     "execution_count": 8,
     "metadata": {},
     "output_type": "execute_result"
    }
   ],
   "source": [
    "# Even though Bob knows Alice's commitment, he can't know her choice, so he chooses and commits\n",
    "\n",
    "B_bobChoice = rps_choices[random.randint(0,2)]\n",
    "\n",
    "B_bobChoice"
   ]
  },
  {
   "cell_type": "markdown",
   "id": "be706e9f-a238-4c5d-8c72-5e001a8654c3",
   "metadata": {},
   "source": [
    "Now here's an interesting thing. There are 2 ways things can go at this point:\n",
    "\n",
    "a) Bob can create a hash commitment and send it to Alice, at which point they both reveal (choice,salt) to one another \n",
    "and individually validate one another's commitments and determine who has won. \n",
    "\n",
    "b) Bob, knowing Alice can't cheat since he has her commitment, can skip the whole hash thing and simply send her his choice. Since his choice *is* a public commitment he cannot claiom it wasn anything else. Alice can just send him the result - with her salt, she _does_ have to prove her choice and they can just move along.\n",
    "\n",
    "Option b) probably requires that the game be synchronized and everyone already know that Alice is going to do a hash commit and Bob will just reveal.\n",
    "\n",
    "In an asynchronous situation it's probably best that they both create and send a commitment hash and reveal when they have gotten a commitment from the other. The messages might pass one another ion the wire, but it'll work.\n"
   ]
  },
  {
   "cell_type": "code",
   "execution_count": 9,
   "id": "a276abd9-9c46-457e-bac0-1016a37f2f07",
   "metadata": {},
   "outputs": [],
   "source": [
    "# Here's b: Bob just reveals\n",
    "\n",
    "A_bobChoice_b = B_bobChoice"
   ]
  },
  {
   "cell_type": "code",
   "execution_count": 10,
   "id": "e928b5dd-dc27-4f44-834a-2bbb889f21ca",
   "metadata": {},
   "outputs": [
    {
     "data": {
      "text/plain": [
       "'Bob'"
      ]
     },
     "execution_count": 10,
     "metadata": {},
     "output_type": "execute_result"
    }
   ],
   "source": [
    "# Alice finds the winner:\n",
    "\n",
    "winningChoice = rps_winner(A_aliceChoice, A_bobChoice_b)\n",
    "\n",
    "winningPlayer = 'none' if winningChoice == 'tie' else 'Alice' if winningChoice == A_aliceChoice else 'Bob'\n",
    "\n",
    "B_aliceReveal = ( winningPlayer, A_aliceChoice, A_aliceSalt) # reveal + winning player\n",
    "\n",
    "winningPlayer"
   ]
  },
  {
   "cell_type": "code",
   "execution_count": 11,
   "id": "ec89abc1-f71a-41fa-bc2c-650d385f8d27",
   "metadata": {},
   "outputs": [
    {
     "name": "stdout",
     "output_type": "stream",
     "text": [
      "Alice was honest\n",
      "Bob\n"
     ]
    }
   ],
   "source": [
    "# Bob needs to verify that Alice's commitment matches the choice value she has revealed\n",
    "\n",
    "(B_aliceWinner, B_aliceChoice, B_aliceSalt) = B_aliceReveal\n",
    "\n",
    "if B_aliceCommit != salted_hash(B_aliceChoice, B_aliceSalt):\n",
    "    print(\"Alice has cheated!\")\n",
    "else:\n",
    "    print(\"Alice was honest\")       \n",
    "\n",
    "winningChoice = rps_winner(B_aliceChoice, B_bobChoice)\n",
    "    \n",
    "winningPlayer = 'none' if winningChoice == 'tie' else 'Alice' if winningChoice == A_aliceChoice else 'Bob'\n",
    "\n",
    "if winningPlayer != B_aliceWinner:\n",
    "    print(\"Something has gone terribly wrong\")  \n",
    "    \n",
    "print(winningPlayer)   \n",
    "\n"
   ]
  },
  {
   "cell_type": "code",
   "execution_count": null,
   "id": "01f55bc0-5782-4fe4-8172-7d56cf4ffb66",
   "metadata": {},
   "outputs": [],
   "source": [
    "\n"
   ]
  },
  {
   "cell_type": "markdown",
   "id": "502c6a58-f31a-43bc-8d79-298e7e68f952",
   "metadata": {},
   "source": [
    "Hmm. Really need to redo this to demonstrate both the turn-based b) version and the async a) flow"
   ]
  },
  {
   "cell_type": "code",
   "execution_count": 149,
   "id": "db1b11d3-3e0e-43f9-80c0-fd5dd7a75417",
   "metadata": {},
   "outputs": [],
   "source": [
    "\n",
    "\n",
    "\n"
   ]
  }
 ],
 "metadata": {
  "kernelspec": {
   "display_name": "Python 3 (ipykernel)",
   "language": "python",
   "name": "python3"
  },
  "language_info": {
   "codemirror_mode": {
    "name": "ipython",
    "version": 3
   },
   "file_extension": ".py",
   "mimetype": "text/x-python",
   "name": "python",
   "nbconvert_exporter": "python",
   "pygments_lexer": "ipython3",
   "version": "3.10.7"
  }
 },
 "nbformat": 4,
 "nbformat_minor": 5
}
