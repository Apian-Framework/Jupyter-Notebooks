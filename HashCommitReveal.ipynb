{
 "cells": [
  {
   "cell_type": "markdown",
   "id": "93e55c26-67b2-468b-a6be-bf5aa4ddc28f",
   "metadata": {},
   "source": [
    "## A very basic illustration of hash-based commit/reveal"
   ]
  },
  {
   "cell_type": "code",
   "execution_count": 1,
   "id": "3869ec05-0d32-4b7d-a1fa-ae145ce94a73",
   "metadata": {},
   "outputs": [
    {
     "name": "stdout",
     "output_type": "stream",
     "text": [
      "Requirement already satisfied: pycryptodome in c:\\apps\\python310\\lib\\site-packages (3.15.0)\n"
     ]
    }
   ],
   "source": [
    "!pip install pycryptodome"
   ]
  },
  {
   "cell_type": "code",
   "execution_count": 2,
   "id": "aa120b24-6bca-4b2e-8497-366b8e42fe77",
   "metadata": {},
   "outputs": [],
   "source": [
    "# Note: \"Crypto\" here is pycryptodome\n",
    "#from Crypto import Random\n",
    "from Crypto.Random import random\n",
    "#from Crypto.Util import number\n",
    "from Crypto.Hash import keccak  # keccak256 is the Ethereum utility hash func"
   ]
  },
  {
   "cell_type": "markdown",
   "id": "b45ee733-a396-4ca8-9cae-b7ae3ab0ed7c",
   "metadata": {},
   "source": [
    "Assume Bob and Alice would like to play a round of \"rock, paper, scissors\"\n",
    "\n",
    "Since they are in separate locations, they can't just \"count it off\" on their hands...\n",
    "\n",
    "But if they just send their choices to one another it is simply too tempting for one of them to wait for the other's move to arrive before sending, and therefore to cheat.\n",
    "\n",
    "So they are going to make use of \"hash commitment\" to keep things honest.\n"
   ]
  },
  {
   "cell_type": "code",
   "execution_count": 198,
   "id": "9af0fc9c-8dcc-4529-a682-305baf2199c1",
   "metadata": {},
   "outputs": [],
   "source": [
    "\n",
    "rps_choices = ['rock', 'paper', 'scissors']\n",
    "\n",
    "def rps_winner( choiceA, choiceB):\n",
    "    if choiceA == choiceB:\n",
    "        return 'tie'\n",
    "    return choiceA if rps_choices.index(choiceA) == (rps_choices.index(choiceB)+1)%3 else choiceB   \n",
    "    "
   ]
  },
  {
   "cell_type": "code",
   "execution_count": 267,
   "id": "bd79bb8e-0fea-45bb-a717-845dee9c2170",
   "metadata": {},
   "outputs": [],
   "source": [
    "# Pck a winner if you know the pther choice\n",
    "def cheat( myChoice, otherChoice):\n",
    "    if rps_winner(myChoice, otherChoice) != myChoice:  \n",
    "        cheatChoice =  rps_choices[(rps_choices.index(otherChoice)+1)%3]\n",
    "        print(f'Cheat by saying {cheatChoice}')\n",
    "        return cheatChoice\n",
    "    else:\n",
    "        print(f'No reason to cheat')        \n",
    "        return None"
   ]
  },
  {
   "cell_type": "code",
   "execution_count": 230,
   "id": "8eb36318-a4b7-4c78-95a3-167bcf58183b",
   "metadata": {},
   "outputs": [],
   "source": [
    "def salted_hash(choice, salt):\n",
    "    # both arg are stings\n",
    "    keccak_hash = keccak.new(digest_bits=256)\n",
    "    s = choice + salt\n",
    "    return keccak_hash.update(bytes(s,'ascii')).hexdigest()\n",
    "    "
   ]
  },
  {
   "cell_type": "code",
   "execution_count": 231,
   "id": "eb8fd12c-05d6-4671-9fff-093295cca5cc",
   "metadata": {},
   "outputs": [],
   "source": [
    "def get_salt(bits=256):\n",
    "    return str(random.getrandbits(bits))"
   ]
  },
  {
   "cell_type": "markdown",
   "id": "136626ee-9f8e-472e-b75d-3eacea1fa86c",
   "metadata": {},
   "source": [
    "They have decided that, after they select their respective moves, Alice will send a hash value representing her choice to Bob.\n",
    "\n",
    "When Bob receives it, he can't tell what choice it represents, but he knows that it does uniquely represent a choice, and that when Alice does send her actual value he will be able to prove for himself that it was her choice all along.\n",
    "\n",
    "So as soon as he receives her commitment, he feels safe to send her his choice in the clear.\n",
    "\n",
    "When Alice gets it, she feels safe to reveal hers to Bob. Send sends the choice to him, along with a \"salt\" value she used to make the hash unique.\n",
    "\n",
    "Bob verifies that when he computes the hash of Alice's revealed value with the salt, it does in fact result in her committed hash.\n",
    "\n",
    "And now they can see who won.\n"
   ]
  },
  {
   "cell_type": "markdown",
   "id": "848fe9c7-191c-4cde-a1e9-a37d1f398ecf",
   "metadata": {},
   "source": [
    "\"A_\" at the beginning of a variable name means that the value is private to Alice.\n",
    "\n",
    "`B_foo = A_foo` means that Alice has sent `foo` to Bob"
   ]
  },
  {
   "cell_type": "code",
   "execution_count": 281,
   "id": "22a4aa62-547b-4a10-bf92-f37e4ff7392e",
   "metadata": {},
   "outputs": [
    {
     "name": "stdout",
     "output_type": "stream",
     "text": [
      "Alice's choice: paper\n",
      "Bob's choice: rock\n"
     ]
    }
   ],
   "source": [
    "# bob and alice both choose\n",
    "A_aliceChoice = rps_choices[random.randint(0,2)]\n",
    "B_bobChoice = rps_choices[random.randint(0,2)]\n",
    "\n",
    "print(f\"Alice's choice: {A_aliceChoice}\\nBob's choice: {B_bobChoice}\")"
   ]
  },
  {
   "cell_type": "code",
   "execution_count": 282,
   "id": "362ed58c-cfa2-4e26-b54c-4d1a18e4a94f",
   "metadata": {},
   "outputs": [
    {
     "name": "stdout",
     "output_type": "stream",
     "text": [
      "Salt: 8468474995766385997617628695752620376159245890350207812849077563936068443602\n",
      "Commitment hash: ac290d8d0cfdd4ee147457d4bbd518cd9042fb3112b47bc03a0910167af4873b\n"
     ]
    }
   ],
   "source": [
    "# alice creates a commitment hash\n",
    "A_aliceSalt = get_salt()\n",
    "A_aliceCommit = salted_hash(A_aliceChoice, A_aliceSalt)\n",
    "\n",
    "print( f'Salt: {A_aliceSalt}\\nCommitment hash: {A_aliceCommit}')"
   ]
  },
  {
   "cell_type": "code",
   "execution_count": 283,
   "id": "a8788e76-9715-4a8e-bb4c-98b6d7a0ed64",
   "metadata": {},
   "outputs": [],
   "source": [
    "# Alice sends Bob her commitment\n",
    "B_aliceCommit = A_aliceCommit"
   ]
  },
  {
   "cell_type": "code",
   "execution_count": 284,
   "id": "eab53a9f-36f9-49f9-b0fc-f8f5288ed14f",
   "metadata": {},
   "outputs": [],
   "source": [
    "# Now that Bob has Alice's committment, sends his actual choice\n",
    "A_bobChoice = B_bobChoice"
   ]
  },
  {
   "cell_type": "code",
   "execution_count": 285,
   "id": "dbdb395e-a27f-4118-b835-bce9af55b718",
   "metadata": {},
   "outputs": [],
   "source": [
    "# maybe Alice tries to cheat by changing her choice\n",
    "\n",
    "# A_aliceChoice = cheat(A_aliceChoice, A_bobChoice) or A_aliceChoice\n"
   ]
  },
  {
   "cell_type": "code",
   "execution_count": 286,
   "id": "1372e6ff-e140-4ade-9e31-94a38ff78aae",
   "metadata": {},
   "outputs": [],
   "source": [
    "# Alice sends reveal to bob\n",
    "B_aliceReveal = ( A_aliceChoice, A_aliceSalt) # choice + salt"
   ]
  },
  {
   "cell_type": "code",
   "execution_count": 287,
   "id": "e928b5dd-dc27-4f44-834a-2bbb889f21ca",
   "metadata": {},
   "outputs": [
    {
     "name": "stdout",
     "output_type": "stream",
     "text": [
      "Alice says: Alice won\n"
     ]
    }
   ],
   "source": [
    "# Alice finds the winner:\n",
    "\n",
    "a_winningChoice = rps_winner(A_aliceChoice, A_bobChoice)\n",
    "      \n",
    "results  = 'Tie' if a_winningChoice == 'tie' else 'Alice won' if a_winningChoice == A_aliceChoice else 'Bob won'\n",
    "\n",
    "print(f'Alice says: {results}')\n"
   ]
  },
  {
   "cell_type": "code",
   "execution_count": 288,
   "id": "bbcce3cf-3245-4ff7-8a78-2369aa9dc9be",
   "metadata": {},
   "outputs": [
    {
     "name": "stdout",
     "output_type": "stream",
     "text": [
      "Alice was honest\n"
     ]
    }
   ],
   "source": [
    "# Bob verifies Alice's commitment \n",
    "\n",
    "(B_aliceChoice, B_aliceSalt) = B_aliceReveal\n",
    "\n",
    "B_aliceCheated = B_aliceCommit != salted_hash(B_aliceChoice, B_aliceSalt)\n",
    "    \n",
    "if B_aliceCheated:\n",
    "    print(\"Alice has cheated!\")\n",
    "else:\n",
    "    print(\"Alice was honest\")       "
   ]
  },
  {
   "cell_type": "code",
   "execution_count": 289,
   "id": "ec89abc1-f71a-41fa-bc2c-650d385f8d27",
   "metadata": {},
   "outputs": [
    {
     "name": "stdout",
     "output_type": "stream",
     "text": [
      "Bob says: Alice won\n"
     ]
    }
   ],
   "source": [
    "# finds the winner\n",
    "\n",
    "b_winningChoice = rps_winner(B_aliceChoice, B_bobChoice)\n",
    "    \n",
    "b_results  = 'Tie' if b_winningChoice == 'tie' else 'Alice won' if b_winningChoice == B_aliceChoice else 'Bob won'\n",
    "\n",
    "print(f'Bob says: {\"CHEATING! \" if B_aliceCheated else \"\"}{results}')\n",
    "\n",
    "if b_winningChoice != a_winningChoice:\n",
    "    print(\"Something has gone terribly wrong\")  \n",
    "\n",
    "\n"
   ]
  },
  {
   "cell_type": "code",
   "execution_count": null,
   "id": "01f55bc0-5782-4fe4-8172-7d56cf4ffb66",
   "metadata": {},
   "outputs": [],
   "source": [
    "\n"
   ]
  },
  {
   "cell_type": "code",
   "execution_count": 149,
   "id": "db1b11d3-3e0e-43f9-80c0-fd5dd7a75417",
   "metadata": {},
   "outputs": [],
   "source": [
    "\n",
    "\n",
    "\n"
   ]
  }
 ],
 "metadata": {
  "kernelspec": {
   "display_name": "Python 3 (ipykernel)",
   "language": "python",
   "name": "python3"
  },
  "language_info": {
   "codemirror_mode": {
    "name": "ipython",
    "version": 3
   },
   "file_extension": ".py",
   "mimetype": "text/x-python",
   "name": "python",
   "nbconvert_exporter": "python",
   "pygments_lexer": "ipython3",
   "version": "3.10.7"
  }
 },
 "nbformat": 4,
 "nbformat_minor": 5
}
