{
 "cells": [
  {
   "cell_type": "code",
   "execution_count": null,
   "id": "131e5bf0-f754-46fc-8990-3faa08cf1116",
   "metadata": {},
   "outputs": [],
   "source": []
  },
  {
   "cell_type": "markdown",
   "id": "97b343a9-dfd7-49d6-980a-c357b2f146cb",
   "metadata": {},
   "source": [
    "### Comparison for encrypted inputs\n",
    "\n",
    "This is based on https://asecuritysite.com/homomorphic/hom_adder which shows a pair of 2-bit inputs being encrypted using a *simple* fully homomorphic scheme and then added in their encrypted state.\n",
    "\n",
    "By inverting the bits of one of the inputs (ones-complement) it can be used to compare and return (>, <, =) for the values.\n",
    "\n",
    "The problem with this is that once A has an encoded version of B's input, she can easily figure out B's value by simply running the comparison several times with the same \"B\" input, but different encoded \"A\" inputs.\n",
    "\n"
   ]
  },
  {
   "cell_type": "markdown",
   "id": "f2b71188-57c5-4f58-985a-907168dc63be",
   "metadata": {},
   "source": [
    "I do think, however, that this can still be the basis for a ZK comparison, but I think I need to understand [this paper](https://sci-hub.se/10.1145/3335741.3335755) first."
   ]
  },
  {
   "cell_type": "code",
   "execution_count": 1,
   "id": "5b95f206-18ef-4d20-95f8-9e1074823962",
   "metadata": {},
   "outputs": [],
   "source": [
    "import sys\n",
    "from random import randint\n",
    "\n",
    "# a and b are 2-char strings representing bits: \"01\"\n",
    "def mill_comp( a, b ):\n",
    "\n",
    "    bit_a0 = 1 if a[1] == \"1\" else 0\n",
    "    bit_a1 = 1 if a[0] == \"1\" else 0\n",
    "    \n",
    "    # take 1's compliment of b so it's subtraction\n",
    "    bit_b0 = 0 if b[1] == \"1\" else 1 \n",
    "    bit_b1 = 0 if b[0] == \"1\" else 1 \n",
    "\n",
    "   \n",
    "    \n",
    "    r1 =randint(1, 10)\n",
    "    r2= randint(1, 10)\n",
    "    r3 =randint(1, 10)\n",
    "    r4 =randint(1, 10)\n",
    "\n",
    "    q1 =randint(10000, 20000)\n",
    "    q2 =randint(10000, 20000)\n",
    "    q3 =randint(10000, 20000)\n",
    "    q4 =randint(10000, 20000)\n",
    "\n",
    "    p =randint(10000, 20000)\n",
    "\n",
    "    c_bit_a0 =  q1 * p + 2*r1 +bit_a0 \n",
    "    c_bit_a1 =  q2 * p + 2*r2 +bit_a1 \n",
    "    c_bit_b0 =  q3 * p + 2*r3 +bit_b0 \n",
    "    c_bit_b1 =  q4 * p + 2*r4 +bit_b1 \n",
    "\n",
    "    # 2-bit full adder\n",
    "    z0_add = (c_bit_a0 + c_bit_b0)\n",
    "    z0_carry = (c_bit_a0 * c_bit_b0) \n",
    "\n",
    "    z1_add = (c_bit_a1 + c_bit_b1 + z0_carry) \n",
    "\n",
    "    z1_carry = (c_bit_a1 * c_bit_b1) + (c_bit_a1 *  z0_carry) + (c_bit_b1 *  z0_carry) \n",
    "\n",
    "    print(\"r values:\\t\",r1,r2,r3,r4)\n",
    "    print(\"q values:\\t\",q1,q2,q3,q4)\n",
    "    print(\"p value:\\t\",p)\n",
    "\n",
    "\n",
    "    print(\"\\nEncrypted bits\")\n",
    "    print(\"---------------\")\n",
    "    print(\"a0\\t\\t\",c_bit_a0)\n",
    "    print(\"a1\\t\\t\",c_bit_a1)\n",
    "    print(\"b0\\t\\t\",c_bit_b0)\n",
    "    print(\"b1\\t\\t\",c_bit_b1)\n",
    "\n",
    "    print(\"\\nEncrypted values\")\n",
    "    print(\"---------------\")\n",
    "    print(\"Z0_add\\t\\t\",z0_add)\n",
    "    print(\"Z0_carry\\t\",z0_carry)\n",
    "    print(\"Z1_add\\t\\t\",z1_add)\n",
    "    print(\"Z1_carry\\t\",z1_carry)\n",
    "\n",
    "    #decrypt\n",
    "    z0 = (z0_add % p) % 2\n",
    "    z1 = (z1_add % p) % 2\n",
    "\n",
    "    z2 = (z1_carry % p) % 2\n",
    "\n",
    "    print(\"\\nResults\")\n",
    "    print(' ',bit_a1,bit_a0)\n",
    "    print('+', end=' ')\n",
    "    print(bit_b1,bit_b0)\n",
    "    print('-------')\n",
    "    print(z2,z1,z0)\n",
    "    \n",
    "    print(\"\\nComparison\")    \n",
    "    \n",
    "    if (z2, z1, z0) == (0,1,1):\n",
    "        print(\"A and B Equal\")\n",
    "    elif (z2):\n",
    "        print(\"A is greater\")\n",
    "    else:\n",
    "        print(\"B is greater\")    \n",
    "    "
   ]
  },
  {
   "cell_type": "code",
   "execution_count": 4,
   "id": "d2cfb9f5-f97d-429d-9370-86618c958286",
   "metadata": {},
   "outputs": [
    {
     "name": "stdout",
     "output_type": "stream",
     "text": [
      "r values:\t 9 6 4 9\n",
      "q values:\t 16732 10632 15278 12931\n",
      "p value:\t 17358\n",
      "\n",
      "Encrypted bits\n",
      "---------------\n",
      "a0\t\t 290434075\n",
      "a1\t\t 184550268\n",
      "b0\t\t 265195533\n",
      "b1\t\t 224456316\n",
      "\n",
      "Encrypted values\n",
      "---------------\n",
      "Z0_add\t\t 555629608\n",
      "Z0_carry\t 77021819320986975\n",
      "Z1_add\t\t 77021819729993559\n",
      "Z1_carry\t 31502431255365555425336088\n",
      "\n",
      "Results\n",
      "  0 1\n",
      "+ 0 1\n",
      "-------\n",
      "0 1 0\n",
      "\n",
      "Comparison\n",
      "B is greater\n"
     ]
    }
   ],
   "source": [
    "mill_comp(\"01\", \"10\")"
   ]
  },
  {
   "cell_type": "code",
   "execution_count": null,
   "id": "b13e2cd5-fea5-41a4-a19f-5cbed45f8e16",
   "metadata": {},
   "outputs": [],
   "source": []
  }
 ],
 "metadata": {
  "kernelspec": {
   "display_name": "Python 3 (ipykernel)",
   "language": "python",
   "name": "python3"
  },
  "language_info": {
   "codemirror_mode": {
    "name": "ipython",
    "version": 3
   },
   "file_extension": ".py",
   "mimetype": "text/x-python",
   "name": "python",
   "nbconvert_exporter": "python",
   "pygments_lexer": "ipython3",
   "version": "3.10.7"
  }
 },
 "nbformat": 4,
 "nbformat_minor": 5
}
